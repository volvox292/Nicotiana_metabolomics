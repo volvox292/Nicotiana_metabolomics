{
 "cells": [
  {
   "cell_type": "markdown",
   "id": "b3221934",
   "metadata": {},
   "source": [
    "# Format and merge spectra energies together\n",
    "\n",
    "We are using the pyteomics library to read and write the MGF format (https://pyteomics.readthedocs.io/en/latest/). \n",
    "\n",
    "TODO: maybe use the matchms library instead\n",
    "EDIT: Both are OK. But pyteomics is easier to use if we just want to clean or modify rapidly the mgf. Where matchms is more for dealing with the intensities, like normalization, modification, etc... "
   ]
  },
  {
   "cell_type": "code",
   "execution_count": 58,
   "id": "b3c05f52",
   "metadata": {},
   "outputs": [],
   "source": [
    "from pyteomics import mgf, auxiliary\n",
    "import numpy as np\n",
    "from collections import defaultdict\n",
    "from tqdm import tqdm"
   ]
  },
  {
   "cell_type": "code",
   "execution_count": null,
   "id": "4b1b2595",
   "metadata": {},
   "outputs": [],
   "source": [
    "# Load the mgf\n",
    "infile = \"../../Ressources/CFMID/MGF/TOTAL_COMPOUNDS_DB.mgf\""
   ]
  },
  {
   "cell_type": "markdown",
   "id": "227e015a",
   "metadata": {},
   "source": [
    "Structure view of the current MGF"
   ]
  },
  {
   "cell_type": "code",
   "execution_count": null,
   "id": "5e13fbb9",
   "metadata": {},
   "outputs": [],
   "source": [
    "with mgf.read(infile) as reader: \n",
    "    auxiliary.print_tree(next(reader))"
   ]
  },
  {
   "cell_type": "code",
   "execution_count": null,
   "id": "b2d798bd",
   "metadata": {},
   "outputs": [],
   "source": [
    "# Go through the spectra\n",
    "with mgf.read(infile) as reader: \n",
    "    for i, spectrum in enumerate(reader):\n",
    "        if i > 0: break\n",
    "        print(i, spectrum)\n",
    "        #spectrum[\"params\"][\"title\"] = spectrum[\"params\"][\"title\"]\n",
    "        print(spectrum[\"m/z array\"], spectrum['intensity array'])\n",
    "        print(dict(zip(spectrum[\"m/z array\"], spectrum['intensity array'])))\n",
    "        "
   ]
  },
  {
   "cell_type": "markdown",
   "id": "5d9db1f5",
   "metadata": {},
   "source": [
    "### Step for merging the energies together"
   ]
  },
  {
   "cell_type": "code",
   "execution_count": null,
   "id": "b8e06d32",
   "metadata": {},
   "outputs": [],
   "source": [
    "from collections import defaultdict\n",
    "from tqdm import tqdm\n",
    "\n",
    "modified_spectra = defaultdict(list)\n",
    "all_mz_intensity_dict = defaultdict(dict)\n",
    "\n",
    "# input MGF \n",
    "infile = \"../../Ressources/CFMID/MGF/TOTAL_COMPOUNDS_DB.mgf\"\n",
    "\n",
    "with mgf.read(infile, convert_arrays = 1, read_charges = False) as infile:\n",
    "    for spectrum in tqdm(infile):\n",
    "        # careful when splitting, inchis have \";\" in them... \n",
    "        try:\n",
    "            id, energy, type, cfmid_version, *inchi = spectrum[\"params\"][\"title\"].split(\";\")\n",
    "        except ValueError:\n",
    "            print(spectrum)\n",
    "        spectrum[\"params\"][\"title\"] = id\n",
    "        spectrum[\"params\"][\"cfmid\"] = cfmid_version\n",
    "        spectrum[\"params\"][\"InChI\"] = ';'.join(inchi)[:-1]\n",
    "        spectrum[\"params\"][\"name\"] = id\n",
    "        mz_array = spectrum[\"m/z array\"]\n",
    "        intensity_array = spectrum['intensity array']\n",
    "        current_mz_intensity_dict = dict(zip(mz_array, intensity_array))\n",
    "    \n",
    "        if id not in modified_spectra.keys():\n",
    "            #print(modified_spectra.keys())\n",
    "            #print(\"Added new spectra for\", id, \"energy\", energy)\n",
    "            #print(current_mz_intensity_dict)\n",
    "            modified_spectra[id] = spectrum\n",
    "            all_mz_intensity_dict[id] = current_mz_intensity_dict\n",
    "        else:\n",
    "            #print(\"Merged intensities for spectra\", id, \"energy\", energy)\n",
    "            all_mz_intensity_dict[id] = dict(sorted((*all_mz_intensity_dict[id].items(), *current_mz_intensity_dict.items())))\n",
    "            modified_spectra[id][\"m/z array\"] = list(all_mz_intensity_dict[id].keys())\n",
    "            modified_spectra[id][\"intensity array\"] = list(all_mz_intensity_dict[id].values())\n",
    "            #print(*all_mz_intensity_dict[id].items())\n",
    "            #print(all_mz_intensity_dict[id])\n",
    "\n",
    "print(len(modified_spectra.keys()))"
   ]
  },
  {
   "cell_type": "code",
   "execution_count": null,
   "id": "956d3414",
   "metadata": {},
   "outputs": [],
   "source": [
    "outfile = \"../../Ressources/CFMID/MGF/TOTAL_COMPOUNDS_DB.energies_merged_name.mgf\"\n",
    "!rm -f $outfile\n",
    "\n",
    "# mgf.write always appends to the file, so we need to remove it if we run it again\n",
    "mgf.write(spectra=modified_spectra.values(), output=outfile)"
   ]
  },
  {
   "cell_type": "code",
   "execution_count": null,
   "id": "a831091f",
   "metadata": {},
   "outputs": [],
   "source": [
    "# Check the output file\n",
    "!head $outfile\n",
    "\n",
    "!grep -c \"TITLE\" $outfile"
   ]
  },
  {
   "cell_type": "markdown",
   "id": "c5a6bdd6",
   "metadata": {},
   "source": [
    "#### Convert spectra to GNPS format and create the batchupload tsv file"
   ]
  },
  {
   "cell_type": "markdown",
   "id": "0b946754",
   "metadata": {},
   "source": [
    "In order to send our data to GNPS, we have to reformat our MGF like this:\n",
    "\n",
    "- https://gnps.ucsd.edu/ProteoSAFe/result.jsp?task=1ad7bc366aef45ce81d2dfcca0a9a5e7&view=download_clustered_spectra\n",
    "\n",
    "And add a tsv file as they show on this link:\n",
    "\n",
    "- https://ccms-ucsd.github.io/GNPSDocumentation/batchupload/\n"
   ]
  },
  {
   "cell_type": "code",
   "execution_count": null,
   "id": "61ebd048",
   "metadata": {
    "tags": []
   },
   "outputs": [],
   "source": [
    "import sqlite3\n",
    "import pandas as pd\n",
    "\n",
    "DB_PATH = \"../../Database/compounds.sqlite\"\n",
    "\n",
    "con = sqlite3.connect(DB_PATH)\n",
    "cur = con.cursor()\n",
    "\n",
    "compounds_info = pd.read_sql_query('SELECT ID, SMILES FROM compounds', con)\n",
    "\n",
    "# We need to add the smile code, so we extract it from our database \n",
    "# And use a dict consisting only of {ID: SMILES} to retrieve them fast based on ID\n",
    "series = compounds_info[\"SMILES\"]\n",
    "series.index = compounds_info[\"ID\"]\n",
    "compounds_dict = series.to_dict()"
   ]
  },
  {
   "cell_type": "code",
   "execution_count": 99,
   "id": "217f1649",
   "metadata": {},
   "outputs": [],
   "source": [
    "from dataclasses import dataclass\n",
    "\n",
    "@dataclass\n",
    "class Entry:\n",
    "    filename: str\n",
    "    compound_name: str\n",
    "    moleculemass: float\n",
    "    extractscan: int\n",
    "    smiles: str\n",
    "    inchi: str\n",
    "    seq: str = \"*..*\"\n",
    "    instrument: str = \"Hybrid F\"\n",
    "    ionsource: str = \"LC-ESI\"\n",
    "    inchiaux: str = \"N/A\"\n",
    "    charge: int = 1\n",
    "    ionmode: str = \"Positive\"\n",
    "    pubmed: str = \"N/A\"\n",
    "    acquisition: str = \"Other\"\n",
    "    exactmass: float = 0\n",
    "    datacollector: str = \"D. Elser, D. Pflieger\"\n",
    "    adduct: str = \"M+H\"\n",
    "    interest: str = \"N/A\"\n",
    "    libquality: int = 3\n",
    "    genus: str = \"N/A\"\n",
    "    species: str = \"N/A\"\n",
    "    strain: str = \"N/A\"\n",
    "    casnumber: str = \"N/A\"\n",
    "    pi: str = \"E. Gaquerel\"\n",
    "\n",
    "    def fields(self):\n",
    "        fields = [self.filename, self.seq, self.compound_name, self.moleculemass, self.instrument, self.ionsource, self.extractscan, self.smiles, \n",
    "            self.inchi, self.inchiaux, self.charge, self.ionmode, self.pubmed, self.acquisition, self.exactmass, self.datacollector, \n",
    "             self.adduct, self.interest, self.libquality, self.genus, self.species, self.strain, self.casnumber, self.pi]\n",
    "        return fields  \n",
    "        "
   ]
  },
  {
   "cell_type": "code",
   "execution_count": 100,
   "id": "a9378d9c",
   "metadata": {},
   "outputs": [
    {
     "name": "stderr",
     "output_type": "stream",
     "text": [
      "100%|██████████| 1066512/1066512 [03:30<00:00, 5059.05it/s]\n"
     ]
    },
    {
     "name": "stdout",
     "output_type": "stream",
     "text": [
      "Saving MGF now...\n",
      "MGF was succesfully saved!\n"
     ]
    }
   ],
   "source": [
    "import csv\n",
    "\n",
    "infile = \"../../Ressources/CFMID/MGF/TOTAL_COMPOUNDS_DB.energies_merged_name.mgf\"\n",
    "outfile = \"../../Ressources/CFMID/MGF/TOTAL_COMPOUNDS_DB.energies_merged_name.GNPS_like.mgf\"\n",
    "outtsv = '../../Ressources/CFMID/MGF/TOTAL_COMPOUNDS_DB.energies_merged_name.GNPS_like.tsv'\n",
    "\n",
    "modified_spectra = defaultdict(list)\n",
    "\n",
    "with mgf.read(infile, convert_arrays = 1, read_charges = False) as infile:\n",
    "    with open(outtsv, \"w\") as out:\n",
    "        # Required fields\n",
    "        header = [\"FILENAME\", \"SEQ\", \"COMPOUND_NAME\", \"MOLECULEMASS\", \"INSTRUMENT\", \"IONSOURCE\", \"EXTRACTSCAN\", \n",
    "                  \"SMILES\", \"INCHI\", \"INCHIAUX\", \"CHARGE\", \"IONMODE\", \"PUBMED\", \"ACQUISITION\", \"EXACTMASS\", \"DATACOLLECTOR\", \n",
    "                  \"ADDUCT\", \"INTEREST\", \"LIBQUALITY\", \"GENUS\", \"SPECIES\", \"STRAIN\", \"CASNUMBER\", \"PI\"]\n",
    "        # CSV writer\n",
    "        writer = csv.writer(out, delimiter='\\t')\n",
    "        writer.writerow(header)\n",
    "        \n",
    "        # Loop through the spectra\n",
    "        for index, spectrum in enumerate(tqdm(infile), start = 1):\n",
    "            id = spectrum[\"params\"][\"title\"]\n",
    "            smile = compounds_dict[id]\n",
    "            \n",
    "            Compound = Entry(filename = \"TOTAL_COMPOUNDS_DB.energies_merged_name.GNPS_like.mgf\", \n",
    "                             compound_name = id, \n",
    "                             moleculemass = spectrum[\"params\"][\"pepmass\"][0], \n",
    "                             extractscan = index, \n",
    "                             smiles = smile, \n",
    "                             inchi = spectrum[\"params\"][\"inchi\"])\n",
    "                             \n",
    "            writer.writerow(Compound.fields())\n",
    "\n",
    "            spectrum[\"params\"][\"title\"] = f\"Scan Number: {index}\"\n",
    "            spectrum[\"params\"][\"filename\"] = Compound.filename\n",
    "            spectrum[\"params\"][\"scans\"] = index\n",
    "            del spectrum[\"params\"][\"inchi\"]\n",
    "\n",
    "            modified_spectra[id] = spectrum\n",
    "\n",
    "print(\"Saving MGF now...\")\n",
    "mgf.write(spectra=modified_spectra.values(), output=outfile)\n",
    "print(\"MGF was succesfully saved!\")"
   ]
  },
  {
   "cell_type": "markdown",
   "id": "c0cd57a8",
   "metadata": {},
   "source": [
    "### Using matchms "
   ]
  },
  {
   "cell_type": "code",
   "execution_count": 87,
   "id": "44e74226",
   "metadata": {},
   "outputs": [
    {
     "name": "stderr",
     "output_type": "stream",
     "text": [
      "1066512it [04:34, 3880.83it/s]\n"
     ]
    }
   ],
   "source": [
    "from matchms.importing import load_from_mgf\n",
    "from matchms.exporting import save_as_mgf\n",
    "\n",
    "infile = \"../../Ressources/CFMID/MGF/TOTAL_COMPOUNDS_DB.energies_merged_name.mgf\"\n",
    "outfile = \"../../Ressources/CFMID/MGF/TOTAL_COMPOUNDS_DB.energies_merged_name.GNPS_like.matchms.mgf\"\n",
    "outcsv = '../../Ressources/CFMID/MGF/TOTAL_COMPOUNDS_DB.energies_merged_name.GNPS_like.matchms.csv'\n",
    "\n",
    "modified_spectra = []\n",
    "spectrums = load_from_mgf(infile)\n",
    "\n",
    "with open(outcsv, \"w\") as out:\n",
    "    header = [\"FILENAME\", \"SEQ\", \"COMPOUND_NAME\", \"MOLECULEMASS\", \"INSTRUMENT\", \"IONSOURCE\", \"EXTRACTSCAN\", \n",
    "              \"SMILES\", \"INCHI\", \"INCHIAUX\", \"CHARGE\", \"IONMODE\", \"PUBMED\", \"ACQUISITION\", \"EXACTMASS\", \"DATACOLLECTOR\", \n",
    "              \"ADDUCT\", \"INTEREST\", \"LIBQUALITY\", \"GENUS\", \"SPECIES\", \"STRAIN\", \"CASNUMBER\", \"PI\"]\n",
    "    writer = csv.writer(out)\n",
    "    writer.writerow(header)\n",
    "    \n",
    "    for index, spectrum in enumerate(tqdm(spectrums), start = 1):\n",
    "        id = spectrum.get(\"title\")\n",
    "        smile = compounds_dict[id]\n",
    "\n",
    "        Compound = Entry(filename = \"TOTAL_COMPOUNDS_DB.energies_merged_name.GNPS_like.mgf\", \n",
    "                         compound_name = id, \n",
    "                         moleculemass = spectrum.get(\"pepmass\")[0], \n",
    "                         extractscan = index, \n",
    "                         smiles = smile, \n",
    "                         inchi = spectrum.get(\"inchi\"))\n",
    "\n",
    "        writer.writerow(Compound.fields())\n",
    "\n",
    "        spectrum.set(\"title\", f\"Scan Number: {index}\")\n",
    "        spectrum.set(\"filename\",  Compound.filename)\n",
    "        spectrum.set(\"scans\", index)\n",
    "        #spectrum.set(\"smiles\", smiles)\n",
    "                         \n",
    "        modified_spectra.append(spectrum)\n",
    "\n",
    "save_as_mgf(spectrums = modified_spectra, filename = outfile)                     \n"
   ]
  }
 ],
 "metadata": {
  "kernelspec": {
   "display_name": "Python 3",
   "language": "python",
   "name": "python3"
  },
  "language_info": {
   "codemirror_mode": {
    "name": "ipython",
    "version": 3
   },
   "file_extension": ".py",
   "mimetype": "text/x-python",
   "name": "python",
   "nbconvert_exporter": "python",
   "pygments_lexer": "ipython3",
   "version": "3.8.8"
  }
 },
 "nbformat": 4,
 "nbformat_minor": 5
}
