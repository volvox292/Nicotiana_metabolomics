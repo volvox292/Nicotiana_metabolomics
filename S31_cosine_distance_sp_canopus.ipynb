{
 "cells": [
  {
   "cell_type": "code",
   "execution_count": 1,
   "id": "28bb50b4-cdc5-44f3-be57-e0e830119877",
   "metadata": {},
   "outputs": [
    {
     "data": {
      "text/html": [
       "<div>\n",
       "<style scoped>\n",
       "    .dataframe tbody tr th:only-of-type {\n",
       "        vertical-align: middle;\n",
       "    }\n",
       "\n",
       "    .dataframe tbody tr th {\n",
       "        vertical-align: top;\n",
       "    }\n",
       "\n",
       "    .dataframe thead th {\n",
       "        text-align: right;\n",
       "    }\n",
       "</style>\n",
       "<table border=\"1\" class=\"dataframe\">\n",
       "  <thead>\n",
       "    <tr style=\"text-align: right;\">\n",
       "      <th></th>\n",
       "      <th>site</th>\n",
       "      <th>NMDS1</th>\n",
       "      <th>NMDS2</th>\n",
       "    </tr>\n",
       "  </thead>\n",
       "  <tbody>\n",
       "    <tr>\n",
       "      <th>0</th>\n",
       "      <td>Nrep</td>\n",
       "      <td>-0.292047</td>\n",
       "      <td>-0.077218</td>\n",
       "    </tr>\n",
       "    <tr>\n",
       "      <th>1</th>\n",
       "      <td>Nnes</td>\n",
       "      <td>-0.293818</td>\n",
       "      <td>-0.115818</td>\n",
       "    </tr>\n",
       "    <tr>\n",
       "      <th>2</th>\n",
       "      <td>Nsto</td>\n",
       "      <td>-0.209968</td>\n",
       "      <td>-0.122561</td>\n",
       "    </tr>\n",
       "    <tr>\n",
       "      <th>3</th>\n",
       "      <td>Nrxs</td>\n",
       "      <td>-0.344995</td>\n",
       "      <td>0.018594</td>\n",
       "    </tr>\n",
       "    <tr>\n",
       "      <th>4</th>\n",
       "      <td>Ntab</td>\n",
       "      <td>-0.111481</td>\n",
       "      <td>0.241822</td>\n",
       "    </tr>\n",
       "    <tr>\n",
       "      <th>5</th>\n",
       "      <td>Nglu</td>\n",
       "      <td>-0.007123</td>\n",
       "      <td>0.071038</td>\n",
       "    </tr>\n",
       "    <tr>\n",
       "      <th>6</th>\n",
       "      <td>Nben</td>\n",
       "      <td>0.056487</td>\n",
       "      <td>-0.196767</td>\n",
       "    </tr>\n",
       "    <tr>\n",
       "      <th>7</th>\n",
       "      <td>Ncle</td>\n",
       "      <td>0.123664</td>\n",
       "      <td>-0.026483</td>\n",
       "    </tr>\n",
       "    <tr>\n",
       "      <th>8</th>\n",
       "      <td>Ngla</td>\n",
       "      <td>0.278648</td>\n",
       "      <td>-0.028051</td>\n",
       "    </tr>\n",
       "    <tr>\n",
       "      <th>9</th>\n",
       "      <td>Ngoo</td>\n",
       "      <td>0.123304</td>\n",
       "      <td>-0.152456</td>\n",
       "    </tr>\n",
       "    <tr>\n",
       "      <th>10</th>\n",
       "      <td>Natt</td>\n",
       "      <td>0.068780</td>\n",
       "      <td>-0.010691</td>\n",
       "    </tr>\n",
       "    <tr>\n",
       "      <th>11</th>\n",
       "      <td>Nnud</td>\n",
       "      <td>0.158457</td>\n",
       "      <td>0.054675</td>\n",
       "    </tr>\n",
       "    <tr>\n",
       "      <th>12</th>\n",
       "      <td>Nobt</td>\n",
       "      <td>0.087636</td>\n",
       "      <td>0.040392</td>\n",
       "    </tr>\n",
       "    <tr>\n",
       "      <th>13</th>\n",
       "      <td>Npal</td>\n",
       "      <td>0.085976</td>\n",
       "      <td>0.043588</td>\n",
       "    </tr>\n",
       "    <tr>\n",
       "      <th>14</th>\n",
       "      <td>Npan</td>\n",
       "      <td>0.156484</td>\n",
       "      <td>-0.056242</td>\n",
       "    </tr>\n",
       "    <tr>\n",
       "      <th>15</th>\n",
       "      <td>Nplu</td>\n",
       "      <td>0.162756</td>\n",
       "      <td>0.156130</td>\n",
       "    </tr>\n",
       "    <tr>\n",
       "      <th>16</th>\n",
       "      <td>Nrus</td>\n",
       "      <td>0.068306</td>\n",
       "      <td>-0.073165</td>\n",
       "    </tr>\n",
       "    <tr>\n",
       "      <th>17</th>\n",
       "      <td>Nset</td>\n",
       "      <td>0.013056</td>\n",
       "      <td>0.188945</td>\n",
       "    </tr>\n",
       "    <tr>\n",
       "      <th>18</th>\n",
       "      <td>Nwut</td>\n",
       "      <td>0.074394</td>\n",
       "      <td>-0.102366</td>\n",
       "    </tr>\n",
       "    <tr>\n",
       "      <th>19</th>\n",
       "      <td>Nsyl</td>\n",
       "      <td>-0.198517</td>\n",
       "      <td>0.146635</td>\n",
       "    </tr>\n",
       "  </tbody>\n",
       "</table>\n",
       "</div>"
      ],
      "text/plain": [
       "    site     NMDS1     NMDS2\n",
       "0   Nrep -0.292047 -0.077218\n",
       "1   Nnes -0.293818 -0.115818\n",
       "2   Nsto -0.209968 -0.122561\n",
       "3   Nrxs -0.344995  0.018594\n",
       "4   Ntab -0.111481  0.241822\n",
       "5   Nglu -0.007123  0.071038\n",
       "6   Nben  0.056487 -0.196767\n",
       "7   Ncle  0.123664 -0.026483\n",
       "8   Ngla  0.278648 -0.028051\n",
       "9   Ngoo  0.123304 -0.152456\n",
       "10  Natt  0.068780 -0.010691\n",
       "11  Nnud  0.158457  0.054675\n",
       "12  Nobt  0.087636  0.040392\n",
       "13  Npal  0.085976  0.043588\n",
       "14  Npan  0.156484 -0.056242\n",
       "15  Nplu  0.162756  0.156130\n",
       "16  Nrus  0.068306 -0.073165\n",
       "17  Nset  0.013056  0.188945\n",
       "18  Nwut  0.074394 -0.102366\n",
       "19  Nsyl -0.198517  0.146635"
      ]
     },
     "execution_count": 1,
     "metadata": {},
     "output_type": "execute_result"
    }
   ],
   "source": [
    "import pandas as pd\n",
    "df_nm=pd.read_csv(\"/Users/delser/ownCloud/Metabolomics-Paper-shared/NMDS.tsv\",sep=\"\\t\") \n",
    "df_nm"
   ]
  },
  {
   "cell_type": "code",
   "execution_count": 2,
   "id": "c7a13ed7-1e52-47dc-a972-0645c7cd60c7",
   "metadata": {},
   "outputs": [
    {
     "data": {
      "text/html": [
       "<div>\n",
       "<style scoped>\n",
       "    .dataframe tbody tr th:only-of-type {\n",
       "        vertical-align: middle;\n",
       "    }\n",
       "\n",
       "    .dataframe tbody tr th {\n",
       "        vertical-align: top;\n",
       "    }\n",
       "\n",
       "    .dataframe thead th {\n",
       "        text-align: right;\n",
       "    }\n",
       "</style>\n",
       "<table border=\"1\" class=\"dataframe\">\n",
       "  <thead>\n",
       "    <tr style=\"text-align: right;\">\n",
       "      <th></th>\n",
       "      <th>Row.names</th>\n",
       "      <th>NMDS1</th>\n",
       "      <th>NMDS2</th>\n",
       "      <th>.</th>\n",
       "    </tr>\n",
       "  </thead>\n",
       "  <tbody>\n",
       "    <tr>\n",
       "      <th>0</th>\n",
       "      <td>Alkaloids and derivatives_Alkaloids and deriva...</td>\n",
       "      <td>-0.999482</td>\n",
       "      <td>-0.032186</td>\n",
       "      <td>0.135</td>\n",
       "    </tr>\n",
       "    <tr>\n",
       "      <th>1</th>\n",
       "      <td>Benzenoids_Amino acids</td>\n",
       "      <td>-0.787508</td>\n",
       "      <td>-0.616304</td>\n",
       "      <td>0.001</td>\n",
       "    </tr>\n",
       "    <tr>\n",
       "      <th>2</th>\n",
       "      <td>Benzenoids_Aralkylamines</td>\n",
       "      <td>-0.888886</td>\n",
       "      <td>-0.458128</td>\n",
       "      <td>0.001</td>\n",
       "    </tr>\n",
       "    <tr>\n",
       "      <th>3</th>\n",
       "      <td>Benzenoids_Benzenoids</td>\n",
       "      <td>-0.998158</td>\n",
       "      <td>0.060661</td>\n",
       "      <td>0.018</td>\n",
       "    </tr>\n",
       "    <tr>\n",
       "      <th>4</th>\n",
       "      <td>Benzenoids_Benzoic acid esters</td>\n",
       "      <td>-0.671258</td>\n",
       "      <td>-0.741224</td>\n",
       "      <td>0.004</td>\n",
       "    </tr>\n",
       "    <tr>\n",
       "      <th>...</th>\n",
       "      <td>...</td>\n",
       "      <td>...</td>\n",
       "      <td>...</td>\n",
       "      <td>...</td>\n",
       "    </tr>\n",
       "    <tr>\n",
       "      <th>83</th>\n",
       "      <td>Phenylpropanoids and polyketides_Coumarins and...</td>\n",
       "      <td>-0.882834</td>\n",
       "      <td>-0.469685</td>\n",
       "      <td>0.001</td>\n",
       "    </tr>\n",
       "    <tr>\n",
       "      <th>84</th>\n",
       "      <td>Phenylpropanoids and polyketides_Flavonoid-3-O...</td>\n",
       "      <td>0.691019</td>\n",
       "      <td>0.722837</td>\n",
       "      <td>0.289</td>\n",
       "    </tr>\n",
       "    <tr>\n",
       "      <th>85</th>\n",
       "      <td>Phenylpropanoids and polyketides_Hydroxycinnam...</td>\n",
       "      <td>-0.302918</td>\n",
       "      <td>0.953017</td>\n",
       "      <td>0.458</td>\n",
       "    </tr>\n",
       "    <tr>\n",
       "      <th>86</th>\n",
       "      <td>Phenylpropanoids and polyketides_Macrolactams</td>\n",
       "      <td>-0.832907</td>\n",
       "      <td>-0.553414</td>\n",
       "      <td>0.126</td>\n",
       "    </tr>\n",
       "    <tr>\n",
       "      <th>87</th>\n",
       "      <td>Phenylpropanoids and polyketides_Macrolides an...</td>\n",
       "      <td>-0.989364</td>\n",
       "      <td>-0.145461</td>\n",
       "      <td>0.531</td>\n",
       "    </tr>\n",
       "  </tbody>\n",
       "</table>\n",
       "<p>88 rows × 4 columns</p>\n",
       "</div>"
      ],
      "text/plain": [
       "                                            Row.names     NMDS1     NMDS2  \\\n",
       "0   Alkaloids and derivatives_Alkaloids and deriva... -0.999482 -0.032186   \n",
       "1                              Benzenoids_Amino acids -0.787508 -0.616304   \n",
       "2                            Benzenoids_Aralkylamines -0.888886 -0.458128   \n",
       "3                               Benzenoids_Benzenoids -0.998158  0.060661   \n",
       "4                      Benzenoids_Benzoic acid esters -0.671258 -0.741224   \n",
       "..                                                ...       ...       ...   \n",
       "83  Phenylpropanoids and polyketides_Coumarins and... -0.882834 -0.469685   \n",
       "84  Phenylpropanoids and polyketides_Flavonoid-3-O...  0.691019  0.722837   \n",
       "85  Phenylpropanoids and polyketides_Hydroxycinnam... -0.302918  0.953017   \n",
       "86      Phenylpropanoids and polyketides_Macrolactams -0.832907 -0.553414   \n",
       "87  Phenylpropanoids and polyketides_Macrolides an... -0.989364 -0.145461   \n",
       "\n",
       "        .  \n",
       "0   0.135  \n",
       "1   0.001  \n",
       "2   0.001  \n",
       "3   0.018  \n",
       "4   0.004  \n",
       "..    ...  \n",
       "83  0.001  \n",
       "84  0.289  \n",
       "85  0.458  \n",
       "86  0.126  \n",
       "87  0.531  \n",
       "\n",
       "[88 rows x 4 columns]"
      ]
     },
     "execution_count": 2,
     "metadata": {},
     "output_type": "execute_result"
    }
   ],
   "source": [
    "df_gr=pd.read_csv(\"/Users/delser/ownCloud/Metabolomics-Paper-shared/groups.tsv\",sep=\"\\t\") \n",
    "df_gr"
   ]
  },
  {
   "cell_type": "code",
   "execution_count": 45,
   "id": "87b34bfb-8fe0-42cd-9381-6abeccc39784",
   "metadata": {},
   "outputs": [],
   "source": [
    "n1=df_gr[\"NMDS1\"].to_list()\n",
    "n2=df_gr[\"NMDS2\"].to_list()\n",
    "n3=df_gr[\"Row.names\"].to_list()\n",
    "n4=df_gr[\".\"].to_list()\n",
    "sp1=df_nm[\"NMDS1\"].to_list()\n",
    "sp2=df_nm[\"NMDS2\"].to_list()\n",
    "sp3=df_nm[\"site\"].to_list()"
   ]
  },
  {
   "cell_type": "code",
   "execution_count": 46,
   "id": "e5b2f908-5bc7-462c-bd27-a69b593dbc10",
   "metadata": {},
   "outputs": [],
   "source": [
    "v_groups=[]\n",
    "for v1,v2,v3,v4 in zip(n1,n2,n3,n4):\n",
    "    v_groups.append([[v1,v2],v3,v4])"
   ]
  },
  {
   "cell_type": "code",
   "execution_count": 20,
   "id": "f40ceaf8-e616-409c-abd0-8fd64ed45575",
   "metadata": {},
   "outputs": [],
   "source": [
    "v_sp=[]\n",
    "for v1,v2,v3 in zip(sp1,sp2,sp3):\n",
    "    v_sp.append([[v1,v2],v3])"
   ]
  },
  {
   "cell_type": "code",
   "execution_count": 24,
   "id": "e401f521-e685-4c89-b36f-a34f7a890434",
   "metadata": {},
   "outputs": [
    {
     "data": {
      "text/plain": [
       "0.02549550129804623"
      ]
     },
     "execution_count": 24,
     "metadata": {},
     "output_type": "execute_result"
    }
   ],
   "source": [
    "from scipy.spatial import distance\n",
    "distance.cosine(v_groups[0][0], v_sp[0][0])"
   ]
  },
  {
   "cell_type": "code",
   "execution_count": 22,
   "id": "4bfb0129-db3c-484c-9872-5623c7498f23",
   "metadata": {
    "tags": []
   },
   "outputs": [
    {
     "data": {
      "text/plain": [
       "[-0.9994819093605, -0.0321856002132844]"
      ]
     },
     "execution_count": 22,
     "metadata": {},
     "output_type": "execute_result"
    }
   ],
   "source": [
    "v_groups[0][0]"
   ]
  },
  {
   "cell_type": "code",
   "execution_count": 52,
   "id": "e06d5a24-f256-4ca6-a8d1-5d2153038832",
   "metadata": {},
   "outputs": [
    {
     "data": {
      "text/plain": [
       "0.135"
      ]
     },
     "execution_count": 52,
     "metadata": {},
     "output_type": "execute_result"
    }
   ],
   "source": [
    "v_groups[0][2]"
   ]
  },
  {
   "cell_type": "code",
   "execution_count": 23,
   "id": "27607b01-94e3-4079-bd07-01f6a3910087",
   "metadata": {},
   "outputs": [
    {
     "data": {
      "text/plain": [
       "[-0.292047401942417, -0.0772175066185113]"
      ]
     },
     "execution_count": 23,
     "metadata": {},
     "output_type": "execute_result"
    }
   ],
   "source": [
    "v_sp[0][0]"
   ]
  },
  {
   "cell_type": "code",
   "execution_count": 41,
   "id": "a44d0d20-f522-45d8-881d-4d3533105683",
   "metadata": {},
   "outputs": [
    {
     "data": {
      "text/plain": [
       "'Nrep'"
      ]
     },
     "execution_count": 41,
     "metadata": {},
     "output_type": "execute_result"
    }
   ],
   "source": [
    "v_sp[0][1]"
   ]
  },
  {
   "cell_type": "code",
   "execution_count": 53,
   "id": "d380a38f-093d-4556-9518-9806fd1b5879",
   "metadata": {},
   "outputs": [
    {
     "name": "stdout",
     "output_type": "stream",
     "text": [
      "Nrep\n",
      "Nnes\n",
      "Nsto\n",
      "Nrxs\n",
      "Ntab\n",
      "Nglu\n",
      "Nben\n",
      "Ncle\n",
      "Ngla\n",
      "Ngoo\n",
      "Natt\n",
      "Nnud\n",
      "Nobt\n",
      "Npal\n",
      "Npan\n",
      "Nplu\n",
      "Nrus\n",
      "Nset\n",
      "Nwut\n",
      "Nsyl\n"
     ]
    }
   ],
   "source": [
    "cosine_scores=[]\n",
    "species=[]\n",
    "groups_sp=[]\n",
    "pval=[]\n",
    "for sp in v_sp:\n",
    "    print(sp[1])\n",
    "    for gr in v_groups:\n",
    "        species.append(sp[1])\n",
    "        cosine_scores.append(distance.cosine(gr[0],sp[0]))\n",
    "        groups_sp.append(gr[1])\n",
    "        pval.append(gr[2])\n",
    "        \n",
    "        \n",
    "        "
   ]
  },
  {
   "cell_type": "code",
   "execution_count": 32,
   "id": "bfc58336-3ab2-4bf7-a3a4-27e9820a81bb",
   "metadata": {},
   "outputs": [
    {
     "data": {
      "text/plain": [
       "1760"
      ]
     },
     "execution_count": 32,
     "metadata": {},
     "output_type": "execute_result"
    }
   ],
   "source": [
    "len(species)\n",
    "\n"
   ]
  },
  {
   "cell_type": "code",
   "execution_count": 33,
   "id": "869f40dc-55fd-4c67-8ec5-4f8dad5077c3",
   "metadata": {},
   "outputs": [
    {
     "data": {
      "text/plain": [
       "1760"
      ]
     },
     "execution_count": 33,
     "metadata": {},
     "output_type": "execute_result"
    }
   ],
   "source": [
    "len(groups_sp)"
   ]
  },
  {
   "cell_type": "code",
   "execution_count": 34,
   "id": "3e1d43f1-5b85-459d-87b4-9d2138766b6b",
   "metadata": {},
   "outputs": [
    {
     "data": {
      "text/plain": [
       "1760"
      ]
     },
     "execution_count": 34,
     "metadata": {},
     "output_type": "execute_result"
    }
   ],
   "source": [
    "len(cosine_scores)"
   ]
  },
  {
   "cell_type": "code",
   "execution_count": 54,
   "id": "ab6ab2ef-731e-4197-8ce3-50595d83ee46",
   "metadata": {},
   "outputs": [],
   "source": [
    "df = pd.DataFrame([species,groups_sp,cosine_scores,pval])\n",
    "df_transpose=df.T"
   ]
  },
  {
   "cell_type": "code",
   "execution_count": 55,
   "id": "e094ff44-f31b-445d-bb60-6817e877e740",
   "metadata": {},
   "outputs": [],
   "source": [
    "df_transpose.to_csv(\"distance_to_canopus.tsv\",sep=\"\\t\")"
   ]
  }
 ],
 "metadata": {
  "kernelspec": {
   "display_name": "Python 3",
   "language": "python",
   "name": "python3"
  },
  "language_info": {
   "codemirror_mode": {
    "name": "ipython",
    "version": 3
   },
   "file_extension": ".py",
   "mimetype": "text/x-python",
   "name": "python",
   "nbconvert_exporter": "python",
   "pygments_lexer": "ipython3",
   "version": "3.8.13"
  }
 },
 "nbformat": 4,
 "nbformat_minor": 5
}
