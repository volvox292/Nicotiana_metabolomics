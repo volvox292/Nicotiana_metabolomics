{
 "cells": [
  {
   "cell_type": "markdown",
   "id": "ancient-burlington",
   "metadata": {},
   "source": [
    "Script to load Sirius formula_identifications.tsv and restore the feature id, also calculate the degree of unsaturation from the molecular formula\n",
    "requires molmass package!"
   ]
  },
  {
   "cell_type": "code",
   "execution_count": 1,
   "id": "written-treatment",
   "metadata": {},
   "outputs": [],
   "source": [
    "\n",
    "from molmass import Formula\n",
    "\n",
    "from pathlib import Path   \n",
    "from tkinter import * \n",
    "\n",
    "from tkinter.filedialog import askopenfilename\n",
    "from tkinter.filedialog import asksaveasfile\n",
    "import csv\n",
    "\n",
    "\n",
    "def degree(form): # function to calculate degree of unsaturation\n",
    "    f= Formula(form)\n",
    "    MF=(f._elements)\n",
    "    try:\n",
    "        b=MF[\"H\"][0]\n",
    "    except:\n",
    "        b=0\n",
    "    try:\n",
    "        c=MF[\"N\"][0]\n",
    "    except:\n",
    "        c=0\n",
    "    try:\n",
    "        a=MF[\"C\"][0]\n",
    "    except:\n",
    "        a=0\n",
    "    if a ==0 or b==0:\n",
    "        return(\"NA\")\n",
    "    else:\n",
    "        return((a+1)-((b-c)/2))\n",
    "    \n",
    " \n"
   ]
  },
  {
   "cell_type": "code",
   "execution_count": 3,
   "id": "social-sport",
   "metadata": {},
   "outputs": [],
   "source": [
    "dialog = Tk()\n",
    "dialog.title(\"Import\")\n",
    "fname = Path(askopenfilename(filetypes = [(\"Sirius formula_identifications\", \"*.tsv\")]))  # file dialog\n",
    "dialog.destroy()\n"
   ]
  },
  {
   "cell_type": "code",
   "execution_count": 4,
   "id": "tired-batch",
   "metadata": {},
   "outputs": [
    {
     "name": "stdout",
     "output_type": "stream",
     "text": [
      "['1', 'C12H20O3', '[M + H]+', 'C12H20O3', '0.9999999999999999', '233.57112329365717', '233.57112329365717', '0.0', '47', '0.9326849065845637', '-0.5021634840103215', '1.5203026174898169', '-0.5346963190848838', '213.14841', '575.794', '767_HEI-10-01-16092021-pos-sir-py_2556']\n"
     ]
    }
   ],
   "source": [
    "\n",
    "\n",
    "Data=[]\n",
    "\n",
    "with open( fname,'r') as f:  # loads file into ScanList\n",
    " for line in f:\n",
    "  line=line.strip('\\n') \n",
    "  Data.append (line.split('\\t'))\n",
    "    \n",
    "print(Data[1])    "
   ]
  },
  {
   "cell_type": "code",
   "execution_count": 5,
   "id": "devoted-tobago",
   "metadata": {},
   "outputs": [
    {
     "name": "stdout",
     "output_type": "stream",
     "text": [
      "C12H20O3\n",
      "767_HEI-10-01-16092021-pos-sir-py_2556\n",
      "['767', 'HEI-10-01-16092021-pos-sir-py', '2556']\n"
     ]
    },
    {
     "data": {
      "text/plain": [
       "['rank',\n",
       " 'molecularFormula',\n",
       " 'adduct',\n",
       " 'precursorFormula',\n",
       " 'ZodiacScore',\n",
       " 'SiriusScore',\n",
       " 'TreeScore',\n",
       " 'IsotopeScore',\n",
       " 'numExplainedPeaks',\n",
       " 'explainedIntensity',\n",
       " 'medianMassErrorFragmentPeaks(ppm)',\n",
       " 'medianAbsoluteMassErrorFragmentPeaks(ppm)',\n",
       " 'massErrorPrecursor(ppm)',\n",
       " 'ionMass',\n",
       " 'retentionTimeInSeconds',\n",
       " 'id']"
      ]
     },
     "execution_count": 5,
     "metadata": {},
     "output_type": "execute_result"
    }
   ],
   "source": [
    "print(Data[1][1]) \n",
    "print(Data[1][15]) \n",
    "print(Data[1][15].split('_'))\n",
    "\n",
    "head=Data[0]\n",
    "Data.pop(0)"
   ]
  },
  {
   "cell_type": "code",
   "execution_count": 6,
   "id": "filled-garbage",
   "metadata": {},
   "outputs": [
    {
     "name": "stdout",
     "output_type": "stream",
     "text": [
      "['1', 'C12H20O3', '[M + H]+', 'C12H20O3', '0.9999999999999999', '233.57112329365717', '233.57112329365717', '0.0', '47', '0.9326849065845637', '-0.5021634840103215', '1.5203026174898169', '-0.5346963190848838', '213.14841', '575.794', '767_HEI-10-01-16092021-pos-sir-py_2556', '2556', 3.0]\n"
     ]
    }
   ],
   "source": [
    "newdata=[]\n",
    "for i in Data:\n",
    "    x=degree(i[1])\n",
    "    ID=i[15].split('_')\n",
    "    i.append(ID[2]) # position in ID split\n",
    "    i.append(x)\n",
    "    newdata.append(i)\n",
    "    \n",
    "print(newdata[0])    \n",
    " "
   ]
  },
  {
   "cell_type": "code",
   "execution_count": 7,
   "id": "attempted-ordinary",
   "metadata": {},
   "outputs": [
    {
     "name": "stdout",
     "output_type": "stream",
     "text": [
      "rank\n"
     ]
    }
   ],
   "source": [
    "head.append(\"ID\")\n",
    "head.append(\"degree\")\n",
    "\n",
    "print(head[0])"
   ]
  },
  {
   "cell_type": "code",
   "execution_count": 8,
   "id": "unsigned-export",
   "metadata": {},
   "outputs": [],
   "source": [
    "dialog = Tk()\n",
    "dialog.title(\"Save\")\n",
    "csvfile =asksaveasfile(mode=\"w\",filetypes=[(\"formula_identifications-extended\", \"*.tsv\")]) # file dialog\n",
    "dialog.destroy()\n",
    "\n",
    "filewriter = csv.writer(csvfile, delimiter='\\t', quotechar='|', quoting=csv.QUOTE_MINIMAL)\n",
    "filewriter.writerow([head[0],head[1],head[2],head[3],head[4],head[5],head[6],head[7],head[8],head[9],head[10], head[11],head[12],head[13],head[14],head[15],head[16],head[17]])\n",
    "for item in newdata:\n",
    "    filewriter.writerow([item[0],item[1],item[2],item[3],item[4],item[5],item[6],item[7],item[8],item[9],item[10], item[11],item[12],item[13],item[14],item[15],item[16],item[17]])"
   ]
  }
 ],
 "metadata": {
  "kernelspec": {
   "display_name": "Python 3",
   "language": "python",
   "name": "python3"
  },
  "language_info": {
   "codemirror_mode": {
    "name": "ipython",
    "version": 3
   },
   "file_extension": ".py",
   "mimetype": "text/x-python",
   "name": "python",
   "nbconvert_exporter": "python",
   "pygments_lexer": "ipython3",
   "version": "3.8.8"
  }
 },
 "nbformat": 4,
 "nbformat_minor": 5
}
