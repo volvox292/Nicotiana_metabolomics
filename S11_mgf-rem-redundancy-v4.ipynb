{
 "cells": [
  {
   "cell_type": "markdown",
   "id": "injured-channel",
   "metadata": {},
   "source": [
    "First we define the functions needed and then parse the mgf and csv file "
   ]
  },
  {
   "cell_type": "code",
   "execution_count": 1,
   "id": "injured-recording",
   "metadata": {
    "tags": []
   },
   "outputs": [
    {
     "name": "stdout",
     "output_type": "stream",
     "text": [
      "['row ID', 'row m/z', 'row retention time', 'HEI-10-01 1_GA4_01_23153-.mzML Peak area', 'HEI-10-01 2_GA5_01_23154-.mzML Peak area', 'HEI-10-01 3_GA6_01_23155-.mzML Peak area', 'HEI-10-01 4_GA7_01_23156-.mzML Peak area', 'HEI-10-01 6_GB1_01_23158-.mzML Peak area', 'HEI-10-01 5_GA8_01_23157-.mzML Peak area', 'HEI-10-01 7_GB2_01_23160-.mzML Peak area', 'HEI-10-01 8_GB3_01_23161-.mzML Peak area', 'HEI-10-01 10_GB5_01_23163-.mzML Peak area', 'HEI-10-01 9_GB4_01_23162-.mzML Peak area', 'HEI-10-01 12_GB7_01_23165-.mzML Peak area', 'HEI-10-01 11_GB6_01_23164-.mzML Peak area', 'HEI-10-01 13_GB8_01_23167-.mzML Peak area', 'HEI-10-01 14_GC1_01_23168-.mzML Peak area', 'HEI-10-01 16_GC3_01_23170-.mzML Peak area', 'HEI-10-01 15_GC2_01_23169-.mzML Peak area', 'HEI-10-01 17_GC4_01_23171-.mzML Peak area', 'HEI-10-01 18_GC5_01_23172-.mzML Peak area', 'HEI-10-01 20_GC7_01_23175-.mzML Peak area', 'HEI-10-01 19_GC6_01_23174-.mzML Peak area', 'HEI-10-01 21_GC8_01_23176-.mzML Peak area', 'HEI-10-01 22_GD1_01_23177-.mzML Peak area', 'HEI-10-01 24_GD3_01_23179-.mzML Peak area', 'HEI-10-01 23_GD2_01_23178-.mzML Peak area', 'HEI-10-01 26_GD5_01_23182-.mzML Peak area', 'HEI-10-01 25_GD4_01_23181-.mzML Peak area', 'HEI-10-01 28_GD7_01_23184-.mzML Peak area', 'HEI-10-01 27_GD6_01_23183-.mzML Peak area', 'HEI-10-01 29_GD8_01_23185-.mzML Peak area', 'HEI-10-01 30_GE1_01_23186-.mzML Peak area', 'HEI-10-01 31_GE2_01_23188-.mzML Peak area', 'HEI-10-01 32_GE3_01_23189-.mzML Peak area', 'HEI-10-01 33_GE4_01_23190-.mzML Peak area', 'HEI-10-01 34_GE5_01_23191-.mzML Peak area', 'HEI-10-01 35_GE6_01_23192-.mzML Peak area', 'HEI-10-01 36_GE7_01_23193-.mzML Peak area']\n"
     ]
    }
   ],
   "source": [
    "import sys\n",
    "import os.path\n",
    "from pathlib import Path   \n",
    "from tkinter import * \n",
    "\n",
    "from tkinter.filedialog import askopenfilename\n",
    "from tkinter.filedialog import asksaveasfile\n",
    "\n",
    "import numpy as np\n",
    "\n",
    "\n",
    "def tolerance(valuesample,valuedb,ppm):  #calculates the ppm range\n",
    "    valuemin=valuesample-valuesample*(ppm*10**-6)\n",
    "    valuemax=valuesample+valuesample*(ppm*10**-6)   \n",
    "    #print valuemax,valuesample,valuemin,valuedb\n",
    "    if valuedb<=valuemax and valuedb>=valuemin:\n",
    "        return True\n",
    "    else:\n",
    "        return False\n",
    "    \n",
    "\n",
    "cv = lambda x: np.std(x, ddof=1) / np.mean(x) * 100  \n",
    "    \n",
    "\n",
    "dialog = Tk()\n",
    "dialog.title(\"Import\")\n",
    "fname1 = Path(askopenfilename(filetypes = [(\"Mzmine GNPS Export\", \"*.mgf\")]))  #deactivate line to remove file dialog\n",
    "dialog.destroy()\n",
    "\n",
    "dialog = Tk()\n",
    "dialog.title(\"Import\")\n",
    "fname2 = Path(askopenfilename(filetypes = [(\"Quant Table Export\", \"*.csv\")]))  #deactivate line to remove file dialog\n",
    "dialog.destroy()\n",
    "   \n",
    "#fname1= \"2501.mgf\"  # enter file name or path activate when file dialog not needed\n",
    "#fname2=\"2501_quant.csv\" # enter file name or path activate when file dialog not needed\n",
    "\n",
    "quant=[]\n",
    "\n",
    "with open(fname2, 'r') as f:     #Reads the Quant table into a List\n",
    " #counter=0\n",
    " for line in f:\n",
    "        line=line.strip('\\n')\n",
    "        line1=line.split(',')\n",
    "        rm= len(line1)-1\n",
    "        line1.pop(rm)\n",
    "        quant.append(line1)\n",
    "\n",
    "print(quant[0])\n",
    "\n",
    "\n",
    "SampleList=[]\n",
    "\n",
    "ScanList=[]\n",
    "with open(fname1, 'r') as f:     #Reads the Samples into a List\n",
    " counter=0\n",
    " for line in f:\n",
    "     line=line.strip('\\n')\n",
    "     if  line.startswith('FEATURE_ID'):\n",
    "         ListID=line.split('=')\n",
    "         ScanList.append(ListID)       \n",
    "          \n",
    "     elif line.startswith('PEPMASS'):\n",
    "         ListPEPMASS=line.split('=')\n",
    "         #ListPEPfloat= float(ListPEPMASS[1])\n",
    "         ScanList.append(ListPEPMASS) \n",
    "         \n",
    "     elif line.startswith('SCANS'):\n",
    "         ListSCANS=line.split('=')\n",
    "         ScanList.append(ListSCANS)\n",
    "         \n",
    "     elif line.startswith('RTINSECONDS'):\n",
    "         ListRT=line.split('=')\n",
    "         ScanList.append(ListRT)\n",
    "         \n",
    "     elif line.startswith('CHARGE'):\n",
    "         ListCHARGE=line.split('=')\n",
    "         #ListCHARGEfloat= float(ListCHARGE[1])\n",
    "         ScanList.append(ListCHARGE)\n",
    "         #ScanList.append([])\n",
    "         #print ListCHARGE\n",
    "     elif line.startswith('MSLEVEL'):\n",
    "         ListRT=line.split('=')\n",
    "         ScanList.append(ListRT)\n",
    "         \n",
    "     elif line.startswith(('0', '1', '2', '3', '4', '5', '6', '7', '8', '9')):\n",
    "         ListMZandInt=line.split(' ')\n",
    "         #print(ListMZandInt)\n",
    "         #ListMZandIntfloat0= float(ListMZandInt[0])\n",
    "         #ListMZandIntfloat1= float(ListMZandInt[1])\n",
    "         #ListMZandIntfloat=[ListMZandIntfloat1,ListMZandIntfloat0]\n",
    "         \n",
    "         #print(ScanList)\n",
    "         ScanList.append(ListMZandInt)\n",
    "         \n",
    "         #print ScanList\n",
    "         #sys.exit(0)\n",
    "         #print ListMZandInt\n",
    "     elif line.startswith('END IONS'):\n",
    "         if len(ScanList[5:])>4:   # parse only if more than three fragments\n",
    "                SampleList.append(ScanList)\n",
    "         ScanList=[]\n",
    "            \n"
   ]
  },
  {
   "cell_type": "code",
   "execution_count": 2,
   "id": "criminal-browser",
   "metadata": {},
   "outputs": [
    {
     "name": "stdout",
     "output_type": "stream",
     "text": [
      "['3.9491192860999994E7', '0', '3.7217611042E7', '0', '3.935168740100001E7', '4884667.028999999', '0', '4775942.194000002', '0', '0', '0', '0', '3.1767670706E7', '2.2727924994999997E7', '4933600.108000001', '0', '0', '0', '0', '0', '2.3626749193999995E7', '0', '3.3197873535E7', '0', '2.4537621892E7', '2718584.9880000036', '2.8549443833000004E7', '0', '0', '0', '0', '0', '0', '0', '3.9608907555E7', '0']\n",
      "['1', ['3.9491192860999994E7', '0', '3.7217611042E7', '0', '3.935168740100001E7', '4884667.028999999', '0', '4775942.194000002', '0', '0', '0', '0', '3.1767670706E7', '2.2727924994999997E7', '4933600.108000001', '0', '0', '0', '0', '0', '2.3626749193999995E7', '0', '3.3197873535E7', '0', '2.4537621892E7', '2718584.9880000036', '2.8549443833000004E7', '0', '0', '0', '0', '0', '0', '0', '3.9608907555E7', '0']]\n"
     ]
    }
   ],
   "source": [
    "print(quant[1][3:])\n",
    "cache=[]\n",
    "quantcalc=[]\n",
    "for i in quant:\n",
    "    cache=[i[0],i[3:]]\n",
    "    quantcalc.append(cache)\n",
    "    cache=[]\n",
    "\n",
    "print(quantcalc[1])\n"
   ]
  },
  {
   "cell_type": "markdown",
   "id": "polished-wisconsin",
   "metadata": {},
   "source": [
    "Look at the List that we just parsed"
   ]
  },
  {
   "cell_type": "code",
   "execution_count": 3,
   "id": "identical-wilson",
   "metadata": {},
   "outputs": [
    {
     "name": "stdout",
     "output_type": "stream",
     "text": [
      "[['FEATURE_ID', '17'], ['PEPMASS', '263.1403'], ['SCANS', '17'], ['RTINSECONDS', '329.049'], ['CHARGE', '1'], ['MSLEVEL', '2'], ['41.0039', '2.2E3'], ['41.9991', '1.3E4'], ['51.0245', '1.5E3'], ['93.0352', '7.6E2'], ['95.0508', '5.5E2'], ['105.0342', '1.9E3'], ['106.0412', '1.4E3'], ['107.0499', '1.5E3'], ['120.0454', '1.3E3'], ['121.0292', '1.2E3'], ['123.0455', '6.1E2'], ['132.0221', '6.5E2'], ['132.0458', '7.4E2'], ['133.0292', '6.3E3'], ['134.0374', '8.3E3'], ['135.0449', '3.3E3'], ['137.0226', '5.5E2'], ['147.0320', '6.0E2'], ['147.0460', '9.4E2'], ['148.0412', '6.9E2'], ['148.0531', '2.7E3'], ['149.0536', '5.5E2'], ['161.0240', '9.2E2'], ['161.0605', '1.9E3'], ['162.0298', '5.9E2'], ['162.0547', '9.2E2'], ['175.0288', '2.9E3'], ['176.0351', '2.3E3'], ['176.0714', '5.8E2'], ['190.0523', '2.8E3'], ['204.0666', '1.5E3'], ['205.0687', '5.2E2'], ['219.1130', '5.3E2'], ['247.1088', '6.6E3'], ['248.1152', '3.1E3']]\n",
      "['FEATURE_ID', '17']\n",
      "['PEPMASS', '263.1403']\n",
      "['RTINSECONDS', '329.049']\n",
      "17\n",
      "263.1403\n",
      "329.049\n",
      "229\n"
     ]
    }
   ],
   "source": [
    "\n",
    "\n",
    "quantcalc.pop(0) #remove header\n",
    "\n",
    "\n",
    "       \n",
    "quantcalc1=[]\n",
    "cache=[]\n",
    "cacheminmax=[]\n",
    "for i in quantcalc:\n",
    "    mi=min(list(np.array(i[1]).astype(float)))  #calculate min and max of intensity across samples\n",
    "    ma=max(list(np.array(i[1]).astype(float)))\n",
    "    cacheminmax=[mi,ma]\n",
    "    cache=[i[0],cacheminmax]\n",
    "    quantcalc1.append(cache)\n",
    "    cacheminmax=[]\n",
    "    cache=[]\n",
    "\n",
    "   \n",
    "  \n",
    "    \n",
    "print(SampleList[0])\n",
    "print(SampleList[0][0])\n",
    "print(SampleList[0][1])\n",
    "print(SampleList[0][3])\n",
    "print(SampleList[0][0][1]) #ID\n",
    "print(SampleList[0][1][1]) #MZ\n",
    "print(SampleList[0][3][1]) #RT\n",
    "print(len(SampleList))"
   ]
  },
  {
   "cell_type": "code",
   "execution_count": 4,
   "id": "peaceful-invalid",
   "metadata": {},
   "outputs": [
    {
     "name": "stdout",
     "output_type": "stream",
     "text": [
      "['167', [0.0, 560274.6479999982]]\n",
      "655\n",
      "[['31.9905', '1.2E3'], ['41.0034', '5.5E3'], ['43.0189', '8.6E3'], ['44.9985', '2.6E3'], ['71.0142', '4.1E3'], ['72.9935', '2.4E3']]\n",
      "6\n"
     ]
    }
   ],
   "source": [
    "print(quantcalc1[135])\n",
    "print(len(quantcalc1))\n",
    "print(SampleList[2][6:])\n",
    "print(len(SampleList[2][6:]))\n"
   ]
  },
  {
   "cell_type": "markdown",
   "id": "distant-amazon",
   "metadata": {},
   "source": [
    "Take out the MZ's of the List remove duplicates with and then check the duplicates free list with the SampleList with a deviation of 3 ppm, saves RT and ID of the matching features into a new List"
   ]
  },
  {
   "cell_type": "code",
   "execution_count": 5,
   "id": "raising-chess",
   "metadata": {
    "tags": []
   },
   "outputs": [
    {
     "name": "stdout",
     "output_type": "stream",
     "text": [
      "229\n",
      "171\n",
      "[['647'], [546.379], [[152.80199999998473, 24809.316000000428]]]\n"
     ]
    }
   ],
   "source": [
    "\n",
    "mzlist=[]\n",
    "for i in SampleList:\n",
    "    mzlist.append(i[1][1]) # Creates a Mz only List\n",
    "\n",
    "#print(mzlist) \n",
    "print(len(mzlist))\n",
    "mzlistshort=list(set(mzlist))\n",
    "#print(mzlistshort) \n",
    "print(len(mzlistshort))  # Remove duplicates\n",
    "\n",
    "ID=[]\n",
    "RT=[]\n",
    "Int=[]\n",
    "cachecalc=[]\n",
    "calc=[]\n",
    "for a in mzlistshort:\n",
    "    counter=0 \n",
    "    for b in SampleList:  \n",
    "        if tolerance(float(a),float(b[1][1]),3) == True: # check with 3 ppm deviation\n",
    "            counter+=1\n",
    "            ID.append(b[0][1])\n",
    "            RT.append(float((b[3][1])))\n",
    "            \n",
    "            for c in quantcalc1:\n",
    "                if c[0] == b[0][1]:\n",
    "                    Int.append(c[1])\n",
    "                else:\n",
    "                    pass\n",
    "            cachecalc=[ID,RT,Int]\n",
    "        else:\n",
    "            pass\n",
    "    #countscache=[counter,a]    \n",
    "    calc.append(cachecalc)\n",
    "    #calc.append(RT)\n",
    "    RT=[]\n",
    "    ID=[]\n",
    "    Int=[]\n",
    "    cachecalc=[]\n",
    "print(calc[0])    "
   ]
  },
  {
   "cell_type": "markdown",
   "id": "surprised-mississippi",
   "metadata": {},
   "source": [
    "Here we use our List to count the number of ocurrences for each identical mz group and continue only with those that appear more than 5 times, from these we use the RT to calculate the CV and then take only those with a CV greater than 10 % into the final exclucion list."
   ]
  },
  {
   "cell_type": "code",
   "execution_count": 6,
   "id": "after-object",
   "metadata": {
    "tags": []
   },
   "outputs": [
    {
     "name": "stdout",
     "output_type": "stream",
     "text": [
      "[['67', '92', '100', '131', '385', '450', '578', '596'], [99.338, 70.976, 95.702, 90.11, 71.068, 70.92, 88.412, 99.198], [[6883.893000000016, 368678.37600000016], [1923.8520000000158, 264558.5030000001], [14092.625, 223276.50900000017], [3412.2039999999797, 128779.60299999992], [5552.7119999999895, 184960.25499999995], [4624.172999999991, 258356.58300000013], [2506.0680000000148, 81521.38799999996], [10334.159999999973, 579556.1709999999]]]\n",
      "[99.338, 70.976, 95.702, 90.11, 71.068, 70.92, 88.412, 99.198]\n",
      "8\n",
      "29\n",
      "[['226', '229', '232', '235', '294', '350', '359', '399', '461', '490', '491', '552', '554', '561', '600', '649', '653', '702', '744', '787', '878'], [828.395, 805.388, 751.629, 754.989, 781.846, 843.986, 745.649, 764.102, 853.635, 797.82, 774.811, 832.049, 783.795, 816.637, 818.785, 850.082, 825.005, 800.585, 731.584, 732.194, 766.855], [[3977.1200000000617, 62221.301000000356], [3505.5989999999592, 46891.06799999983], [2369.5910000000167, 36759.509999999755], [3561.359999999752, 31351.49599999991], [0.0, 45952.28299999992], [3168.556999999818, 50317.69200000063], [1970.7459999998237, 24682.470000000063], [3172.5960000000086, 22491.82399999998], [3260.815999999997, 39131.44400000007], [2323.0240000001368, 49704.978999999934], [3891.580000000212, 26084.69600000042], [0.0, 29997.838999999876], [0.0, 30106.125999999786], [0.0, 29710.355999999956], [4611.096000000033, 35687.06699999982], [3529.928000000044, 36659.76799999957], [3622.891999999852, 48502.78999999976], [0.0, 34310.62099999991], [0.0, 16445.616999999904], [2235.4089999999774, 16566.330999999893], [0.0, 19770.73199999983]]]\n",
      "[]\n"
     ]
    }
   ],
   "source": [
    "#print(calc[0:100]) \n",
    "print(calc[75])\n",
    "print(calc[75][1])\n",
    "print(len(calc[75][1]))\n",
    "check=[]\n",
    "for i in calc:\n",
    "    if len(i[1]) > 5:  # only take features that appear more than five times\n",
    "        check.append(i)\n",
    "        #print (i)\n",
    "    else:\n",
    "        pass\n",
    "    \n",
    "print(len(check))  \n",
    "\n",
    "print(check[1])\n",
    "cv(check[1][1])\n",
    "\n",
    "minlist=[]\n",
    "maxlist=[]\n",
    "checkf=[]\n",
    "cache=[]\n",
    "for a in check:\n",
    "    for i in a[2]:\n",
    "        #print(i[0]) #min\n",
    "        minlist.append(i[0])\n",
    "        #print(i[1])# max\n",
    "        maxlist.append(i[1])\n",
    "    cache=[a[0],a[1],minlist,maxlist]    \n",
    "    checkf.append(cache)\n",
    "    minlist=[]\n",
    "    maxlist=[]\n",
    "    cache=[]\n",
    "\n",
    "\n",
    "excllist=[]\n",
    "for a in checkf:\n",
    "    x=[max(a[2]),min(a[3])]\n",
    "    if cv(a[1])>10 and cv(x)<30:   # calculate the CV based on the RT only take features into the exclusion list with a CV greater than 10 %\n",
    "        for b in a[0]:             # also calculate  the min of the max and the max of the min across smiliar mz's than take only features with a CV below 30 %\n",
    "            excllist.append(b)\n",
    "    else:\n",
    "        pass\n",
    "    \n",
    "print (excllist[0:30])"
   ]
  },
  {
   "cell_type": "markdown",
   "id": "global-constitution",
   "metadata": {},
   "source": [
    "Here we just again remove duplicates from our exclusion list"
   ]
  },
  {
   "cell_type": "code",
   "execution_count": 7,
   "id": "everyday-throat",
   "metadata": {
    "tags": []
   },
   "outputs": [
    {
     "name": "stdout",
     "output_type": "stream",
     "text": [
      "0\n",
      "0\n",
      "[]\n"
     ]
    }
   ],
   "source": [
    "print(len(excllist))\n",
    "excllist=list(set(excllist)) # Remove Duplicates\n",
    "print(len(excllist)) # Number of featues that will be removed\n",
    "print(excllist[0:10])\n"
   ]
  },
  {
   "cell_type": "markdown",
   "id": "reverse-invasion",
   "metadata": {},
   "source": [
    "In the next step we remove the features stored in our exclusion list"
   ]
  },
  {
   "cell_type": "code",
   "execution_count": 8,
   "id": "logical-medicaid",
   "metadata": {},
   "outputs": [
    {
     "name": "stdout",
     "output_type": "stream",
     "text": [
      "229\n",
      "656\n",
      "229\n",
      "427\n",
      "230\n"
     ]
    }
   ],
   "source": [
    "print(len(SampleList)) #Number of Features before\n",
    "print(len(quant))\n",
    "Samplelistshort=[]\n",
    "\n",
    "for item in SampleList:\n",
    "        if item[0][1] not in excllist:\n",
    "            Samplelistshort.append(item)\n",
    "        else:\n",
    "            pass\n",
    "ids_end=[]        \n",
    "for i in Samplelistshort:\n",
    "    ids_end.append(i[0][1])\n",
    "            \n",
    "        \n",
    "removed=[]\n",
    "for item  in quant:\n",
    "    if item[0] not in ids_end:\n",
    "            removed.append(item)\n",
    "    else:\n",
    "        pass    \n",
    "\n",
    "quantshort=[quant[0]]\n",
    "\n",
    "for item  in quant:\n",
    "        if item[0] in ids_end:\n",
    "            quantshort.append(item)\n",
    "        else:\n",
    "            pass\n",
    "\n",
    "\n",
    "\n",
    "      \n",
    "print(len(Samplelistshort)) # Number of Features after removal    \n",
    "print(len(removed)) # Number of removed Features \n",
    "print(len(quantshort)) # Number of Features after removal"
   ]
  },
  {
   "cell_type": "code",
   "execution_count": 9,
   "id": "blank-modification",
   "metadata": {},
   "outputs": [
    {
     "name": "stdout",
     "output_type": "stream",
     "text": [
      "17\n"
     ]
    }
   ],
   "source": [
    "print(Samplelistshort[0][0][1])\n",
    "\n"
   ]
  },
  {
   "cell_type": "code",
   "execution_count": 10,
   "id": "continental-administration",
   "metadata": {},
   "outputs": [],
   "source": [
    "#print(ids_end)\n"
   ]
  },
  {
   "cell_type": "markdown",
   "id": "existing-lobby",
   "metadata": {},
   "source": [
    "Here we just write our cleaned Data into a new mgf file and also create the new csv tables\n"
   ]
  },
  {
   "cell_type": "code",
   "execution_count": null,
   "id": "inclusive-macedonia",
   "metadata": {},
   "outputs": [],
   "source": [
    "\n",
    "#deactivate when file dialog not needed\n",
    "\n",
    "dialog = Tk()\n",
    "dialog.title(\"Save\")\n",
    "f =asksaveasfile(mode=\"w\",filetypes=[(\"MGF-format\", \"*.mgf\")])\n",
    "dialog.destroy()\n",
    "\n",
    "for i in Samplelistshort:\n",
    "    #print (i)\n",
    "    f.write(\"BEGIN IONS\")\n",
    "    f.write('\\n')\n",
    "    for subi in i:\n",
    "        #f.write('\\n')\n",
    "        f.write(subi[0])\n",
    "        if subi[0].startswith(('0', '1', '2', '3', '4', '5', '6', '7', '8', '9')):\n",
    "            f.write(\" \")\n",
    "        else:\n",
    "            f.write(\"=\")\n",
    "        f.write(subi[1])    \n",
    "        f.write('\\n')\n",
    "        #print(subi)\n",
    "        f#or subsubi in subi:\n",
    "            #f.write(subsubi)\n",
    "            #f.write('#')\n",
    "    #f.write('\\n')        \n",
    "    f.write(\"END IONS\")\n",
    "    f.write('\\n') \n",
    "    f.write('\\n')\n",
    "            \n",
    "        \n",
    "f.close()\n",
    "\n",
    "\n",
    "dialog = Tk()\n",
    "dialog.title(\"Save\")\n",
    "f =asksaveasfile(mode=\"w\",filetypes=[(\"Quant-Table-cleaned\", \"*.csv\")])\n",
    "dialog.destroy()\n",
    "\n",
    "for i in quantshort:\n",
    "    for subi in i:\n",
    "        f.write(subi)\n",
    "        f.write(\",\")\n",
    "    f.write('\\n')\n",
    "f.close()\n",
    "\n",
    "dialog = Tk()\n",
    "dialog.title(\"Save\")\n",
    "f =asksaveasfile(mode=\"w\",filetypes=[(\"Removed-features\", \"*.csv\")])\n",
    "dialog.destroy()    \n",
    "    \n",
    "for i in removed:\n",
    "    for subi in i:\n",
    "        f.write(subi)\n",
    "        f.write(\",\")\n",
    "    f.write('\\n')     \n",
    "f.close()\n",
    "#activate when file dialog not needed\n",
    "\"\"\"\n",
    "\n",
    "with open(\"/Users/delser/Desktop/PhD/Scripts/list_clean.mgf\", 'w') as f:\n",
    "    for i in SampleList:\n",
    "        f.write(\"BEGIN IONS\")\n",
    "        f.write('\\n')\n",
    "        for subi in i:\n",
    "            f.write(subi[0])\n",
    "            if subi[0].startswith(('0', '1', '2', '3', '4', '5', '6', '7', '8', '9')):\n",
    "                f.write(\" \")\n",
    "            else:\n",
    "                f.write(\"=\")\n",
    "            f.write(subi[1])\n",
    "            f.write('\\n')\n",
    "        f.write(\"END IONS\")\n",
    "        f.write('\\n') \n",
    "        f.write('\\n')\n",
    "\n",
    "with open(\"/Users/delser/Desktop/PhD/Scripts/list_clean.csv\", 'w') as f:\n",
    "    for i in quant:\n",
    "        for subi in i:\n",
    "            f.write(subi)\n",
    "            f.write(\",\")\n",
    "        f.write('\\n')\n",
    "        \n",
    "with open(\"/Users/delser/Desktop/PhD/Scripts/list_removed.csv\", 'w') as f:\n",
    "    for i in removed:\n",
    "        for subi in i:\n",
    "            f.write(subi)\n",
    "            f.write(\",\")\n",
    "        f.write('\\n')        \n",
    "\"\"\"            "
   ]
  },
  {
   "cell_type": "code",
   "execution_count": null,
   "id": "suspended-purpose",
   "metadata": {},
   "outputs": [],
   "source": []
  }
 ],
 "metadata": {
  "kernelspec": {
   "display_name": "Python 3",
   "language": "python",
   "name": "python3"
  },
  "language_info": {
   "codemirror_mode": {
    "name": "ipython",
    "version": 3
   },
   "file_extension": ".py",
   "mimetype": "text/x-python",
   "name": "python",
   "nbconvert_exporter": "python",
   "pygments_lexer": "ipython3",
   "version": "3.8.8"
  }
 },
 "nbformat": 4,
 "nbformat_minor": 5
}
