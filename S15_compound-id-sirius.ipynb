{
 "cells": [
  {
   "cell_type": "markdown",
   "id": "vietnamese-selling",
   "metadata": {},
   "source": [
    "Script to load Sirius compound_identifications.tsv and restore the feature id"
   ]
  },
  {
   "cell_type": "code",
   "execution_count": 1,
   "id": "visible-benchmark",
   "metadata": {},
   "outputs": [],
   "source": [
    "\n",
    "\n",
    "\n",
    "from pathlib import Path   \n",
    "from tkinter import * \n",
    "\n",
    "from tkinter.filedialog import askopenfilename\n",
    "from tkinter.filedialog import asksaveasfile\n",
    "import csv\n",
    "\n",
    "\n",
    " \n"
   ]
  },
  {
   "cell_type": "code",
   "execution_count": 2,
   "id": "boxed-daniel",
   "metadata": {},
   "outputs": [],
   "source": [
    "dialog = Tk()\n",
    "dialog.title(\"Import\")\n",
    "fname = Path(askopenfilename(filetypes = [(\"Sirius compound_identifications\", \"*.tsv\")]))  #file dialog\n",
    "dialog.destroy()\n"
   ]
  },
  {
   "cell_type": "code",
   "execution_count": 3,
   "id": "photographic-cincinnati",
   "metadata": {},
   "outputs": [
    {
     "name": "stdout",
     "output_type": "stream",
     "text": [
      "['1', '1', '1', '1', '0.9991443258305155', '-48.11599687855349', '0.9999999999999999', '67.24863500641706', 'C13H24N2S', '[M + H]+', 'KAJICSGLHKRDLN', 'InChI=1S/C13H24N2S/c16-13(14-11-7-3-1-4-8-11)15-12-9-5-2-6-10-12/h11-12H,1-10H2,(H2,14,15,16)', 'Oprea1_850375', 'C1CCC(CC1)NC(=S)NC2CCCCC2', '3.5999999', '727200', 'PubChem:(727200);MeSH:(727200);HSDB:(1212-29-9);NORMAN:(NS00023954);PubChem class - safety and toxic;PubMed', '67371590', '241.1735076904297', '438.865', '12_HEI-10-01-16092021-pos-sir-py_30']\n"
     ]
    }
   ],
   "source": [
    "\n",
    "\n",
    "Data=[]\n",
    "\n",
    "with open( fname,'r') as f:  # loads file into ScanList\n",
    " for line in f:\n",
    "  line=line.strip('\\n') \n",
    "  Data.append (line.split('\\t'))\n",
    "    \n",
    "print(Data[1])    "
   ]
  },
  {
   "cell_type": "code",
   "execution_count": 4,
   "id": "sorted-absence",
   "metadata": {},
   "outputs": [
    {
     "name": "stdout",
     "output_type": "stream",
     "text": [
      "21\n",
      "12_HEI-10-01-16092021-pos-sir-py_30\n"
     ]
    }
   ],
   "source": [
    "print(len(Data[1]))\n",
    "print(Data[1][20])"
   ]
  },
  {
   "cell_type": "code",
   "execution_count": 5,
   "id": "fossil-departure",
   "metadata": {},
   "outputs": [
    {
     "name": "stdout",
     "output_type": "stream",
     "text": [
      "1\n",
      "12_HEI-10-01-16092021-pos-sir-py_30\n",
      "['12', 'HEI-10-01-16092021-pos-sir-py', '30']\n"
     ]
    },
    {
     "data": {
      "text/plain": [
       "['rank',\n",
       " 'formulaRank',\n",
       " '#adducts',\n",
       " '#predictedFPs',\n",
       " 'ConfidenceScore',\n",
       " 'CSI:FingerIDScore',\n",
       " 'ZodiacScore',\n",
       " 'SiriusScore',\n",
       " 'molecularFormula',\n",
       " 'adduct',\n",
       " 'InChIkey2D',\n",
       " 'InChI',\n",
       " 'name',\n",
       " 'smiles',\n",
       " 'xlogp',\n",
       " 'pubchemids',\n",
       " 'links',\n",
       " 'dbflags',\n",
       " 'ionMass',\n",
       " 'retentionTimeInSeconds',\n",
       " 'id']"
      ]
     },
     "execution_count": 5,
     "metadata": {},
     "output_type": "execute_result"
    }
   ],
   "source": [
    "print(Data[1][1]) \n",
    "print(Data[1][20]) \n",
    "print(Data[1][20].split('_'))\n",
    "\n",
    "head=Data[0]\n",
    "Data.pop(0)"
   ]
  },
  {
   "cell_type": "code",
   "execution_count": 6,
   "id": "logical-roots",
   "metadata": {},
   "outputs": [
    {
     "name": "stdout",
     "output_type": "stream",
     "text": [
      "['1', '1', '1', '1', '0.9991443258305155', '-48.11599687855349', '0.9999999999999999', '67.24863500641706', 'C13H24N2S', '[M + H]+', 'KAJICSGLHKRDLN', 'InChI=1S/C13H24N2S/c16-13(14-11-7-3-1-4-8-11)15-12-9-5-2-6-10-12/h11-12H,1-10H2,(H2,14,15,16)', 'Oprea1_850375', 'C1CCC(CC1)NC(=S)NC2CCCCC2', '3.5999999', '727200', 'PubChem:(727200);MeSH:(727200);HSDB:(1212-29-9);NORMAN:(NS00023954);PubChem class - safety and toxic;PubMed', '67371590', '241.1735076904297', '438.865', '12_HEI-10-01-16092021-pos-sir-py_30', '30']\n"
     ]
    }
   ],
   "source": [
    "newdata=[]\n",
    "for i in Data:\n",
    "    ID=i[20].split('_')\n",
    "    i.append(ID[2]) #position of ID split\n",
    "    newdata.append(i)\n",
    "    \n",
    "print(newdata[0])    \n",
    " "
   ]
  },
  {
   "cell_type": "code",
   "execution_count": 7,
   "id": "waiting-thumb",
   "metadata": {},
   "outputs": [
    {
     "name": "stdout",
     "output_type": "stream",
     "text": [
      "ID\n"
     ]
    }
   ],
   "source": [
    "head.append(\"ID\")\n",
    "\n",
    "\n",
    "print(head[21])"
   ]
  },
  {
   "cell_type": "code",
   "execution_count": 8,
   "id": "heated-montreal",
   "metadata": {},
   "outputs": [],
   "source": [
    "dialog = Tk()\n",
    "dialog.title(\"Save\")\n",
    "csvfile =asksaveasfile(mode=\"w\",filetypes=[(\"compound_identifications-extended\", \"*.tsv\")])  #file dialog\n",
    "dialog.destroy()\n",
    "\n",
    "\n",
    "filewriter = csv.writer(csvfile, delimiter='\\t', quotechar='|', quoting=csv.QUOTE_MINIMAL)\n",
    "filewriter.writerow([head[0],head[1],head[2],head[3],head[4],head[5],head[6],head[7],head[8],head[9],head[10], head[11],head[12],head[13],head[14],head[15],head[16],head[17],head[18],head[19],head[20],head[21]])\n",
    "for item in newdata:\n",
    "    filewriter.writerow([item[0],item[1],item[2],item[3],item[4],item[5],item[6],item[7],item[8],item[9],item[10], item[11],item[12],item[13],item[14],item[15],item[16],item[17],item[18],item[19],item[20],item[21]])"
   ]
  },
  {
   "cell_type": "code",
   "execution_count": null,
   "id": "addressed-miller",
   "metadata": {},
   "outputs": [],
   "source": []
  }
 ],
 "metadata": {
  "kernelspec": {
   "display_name": "Python 3",
   "language": "python",
   "name": "python3"
  },
  "language_info": {
   "codemirror_mode": {
    "name": "ipython",
    "version": 3
   },
   "file_extension": ".py",
   "mimetype": "text/x-python",
   "name": "python",
   "nbconvert_exporter": "python",
   "pygments_lexer": "ipython3",
   "version": "3.8.8"
  }
 },
 "nbformat": 4,
 "nbformat_minor": 5
}
