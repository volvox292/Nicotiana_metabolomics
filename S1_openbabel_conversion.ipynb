{
 "cells": [
  {
   "cell_type": "markdown",
   "metadata": {},
   "source": [
    "# OpenBabel for chemical format conversion\n",
    "\n",
    "The software must first be installed (http://openbabel.org/wiki/Main_Page) then the python package must be installed for the bindings (https://open-babel.readthedocs.io/en/latest/UseTheLibrary/Python.html)"
   ]
  },
  {
   "cell_type": "code",
   "execution_count": 1,
   "metadata": {},
   "outputs": [],
   "source": [
    "from openbabel import openbabel\n",
    "from pathlib import Path\n",
    "import os\n",
    "import glob"
   ]
  },
  {
   "cell_type": "code",
   "execution_count": null,
   "metadata": {},
   "outputs": [],
   "source": [
    "dir = Path(\"../../Ressources/2_Openbabel_conversion\")"
   ]
  },
  {
   "cell_type": "markdown",
   "metadata": {},
   "source": [
    "### Setting up the openbabel converter object"
   ]
  },
  {
   "cell_type": "code",
   "execution_count": null,
   "metadata": {},
   "outputs": [],
   "source": [
    "# Get a converter object\n",
    "conv = openbabel.OBConversion()\n",
    "\n",
    "#conv.GetSupportedInputFormat() # Check input format\n",
    "conv.GetSupportedOutputFormat() # Check output format\n"
   ]
  },
  {
   "cell_type": "code",
   "execution_count": null,
   "metadata": {},
   "outputs": [],
   "source": [
    "def openbabel_conversion(infile, informat, outformat):\n",
    "    #print(str(infile.parent / \"converted\" / infile.with_suffix(\".\" + outformat).name))\n",
    "    conv = openbabel.OBConversion()\n",
    "    conv.SetInAndOutFormats(informat, outformat)\n",
    "    print(f\"Converting {infile.name} from {informat} to {outformat}\")\n",
    "    # put conversion to a converted folder\n",
    "    outdir = Path(infile.parent / \"converted\")\n",
    "    outdir.mkdir(parents=True, exist_ok=True)\n",
    "    conv.OpenInAndOutFiles(str(infile), str(outdir / infile.with_suffix(\".\" + outformat).name))\n",
    "    conv.Convert()\n",
    "    conv.CloseOutFile()\n",
    "    print(\"Conversion done.\")"
   ]
  },
  {
   "cell_type": "code",
   "execution_count": null,
   "metadata": {},
   "outputs": [],
   "source": [
    "files = dir.glob('*')\n",
    "\n",
    "for file in files:\n",
    "    print(file)\n",
    "    if file.suffix == \".smiles\":\n",
    "        openbabel_conversion(file, \"smiles\", \"inchi\")\n",
    "        openbabel_conversion(file, \"smiles\", \"inchikey\")\n",
    "    elif file.suffix == \".inchi\":\n",
    "        openbabel_conversion(file, \"inchi\", \"smiles\")\n",
    "        openbabel_conversion(file, \"inchi\", \"inchikey\")\n",
    "    elif file.suffix == \".inchikey\":\n",
    "        openbabel_conversion(file, \"inchikey\", \"inchi\")\n",
    "        openbabel_conversion(file, \"inchikey\", \"smiles\")\n",
    "    else: \n",
    "        print(\"No conversion for this file\")"
   ]
  },
  {
   "cell_type": "code",
   "execution_count": null,
   "metadata": {},
   "outputs": [],
   "source": [
    "for i in dir.glob(\"COCO*\"):\n",
    "    print(i)"
   ]
  },
  {
   "cell_type": "markdown",
   "metadata": {},
   "source": [
    "### Conversion whole database to specific format"
   ]
  },
  {
   "cell_type": "code",
   "execution_count": 1,
   "metadata": {},
   "outputs": [],
   "source": [
    "import sqlite3\n",
    "import pandas as pd\n",
    "\n",
    "DB_PATH = \"../../Database/compounds.sqlite\"\n",
    "\n",
    "con = sqlite3.connect(DB_PATH)\n",
    "cur = con.cursor()"
   ]
  },
  {
   "cell_type": "code",
   "execution_count": 2,
   "metadata": {},
   "outputs": [],
   "source": [
    "all_smiles = pd.read_sql_query('SELECT ID, SMILES, InChI FROM compounds', con)"
   ]
  },
  {
   "cell_type": "code",
   "execution_count": null,
   "metadata": {},
   "outputs": [],
   "source": [
    "# Trying to convert to mol format\n",
    "all_smiles.to_csv('/Volumes/4TB/Users/dpflieger/tmp/all_smiles.smiles', columns = [\"SMILES\"], header = False, index = False)\n",
    "all_smiles.to_csv('/Volumes/4TB/Users/dpflieger/tmp/all_smiles.inchi', columns = [\"InChI\"], header = False, index = False)\n",
    "\n",
    "# The format"
   ]
  },
  {
   "cell_type": "code",
   "execution_count": null,
   "metadata": {},
   "outputs": [],
   "source": [
    "conv = openbabel.OBConversion()\n",
    "conv.SetInAndOutFormats(\"smiles\", \"mol\")\n",
    "conv.SetOptions('3', openbabel.OBConversion.OUTOPTIONS)\n",
    "conv.SetOptions('gen3d', openbabel.OBConversion.OUTOPTIONS)\n",
    "conv.OpenInAndOutFiles(\"/Volumes/4TB/Users/dpflieger/tmp/all_smiles.smiles\", \"/Volumes/4TB/Users/dpflieger/tmp/all_smiles.mol\")\n",
    "conv.Convert()\n",
    "conv.CloseOutFile()"
   ]
  },
  {
   "cell_type": "code",
   "execution_count": 8,
   "metadata": {
    "scrolled": true,
    "tags": []
   },
   "outputs": [],
   "source": [
    "# RUN OPENBABEL FROM THE COMMAND LINE\n",
    "import os\n",
    "\n",
    "smiles_dir = Path(\"/Volumes/4TB/Users/dpflieger/Projects/Gaquerel/Elser/tmp_obabel/smiles\")\n",
    "smiles_dir.mkdir(parents=True, exist_ok=True)\n",
    "\n",
    "for index, row in all_smiles.iterrows():\n",
    "    #print(row['ID'], row['SMILES'], row[\"InChI\"])\n",
    "    #with open((smiles_dir / row[\"ID\"]).with_suffix(\".smiles\"), \"w\") as out:\n",
    "    #    print(row[\"SMILES\"], file = out)    \n",
    "    with open(\"/Volumes/4TB/Users/dpflieger/tmp/obabel_commands.txt\", \"a\") as out2:\n",
    "        print(f\"/home/dpflieger/Softs/openbabel-2.4.1/build/bin/obabel /ssd_workspace/dpflieger/conversion/smiles/{row['ID']}.smiles -o mol -O /ssd_workspace/dpflieger/conversion/mol/{row['ID']}.mol -x3 --gen3d\", file = out2)\n",
    "\n",
    "# ~/Softs/openbabel/build/bin/obabel all_smiles.smiles -o mol -O test.mol -x3 --gen3d"
   ]
  },
  {
   "cell_type": "markdown",
   "metadata": {},
   "source": [
    "### Convert all smiles files to .mol format\n",
    "\n",
    "obabel command line and with option *-x3 --gen3d*"
   ]
  },
  {
   "cell_type": "code",
   "execution_count": null,
   "metadata": {
    "scrolled": true,
    "tags": []
   },
   "outputs": [],
   "source": [
    "import subprocess\n",
    "import tqdm\n",
    "\n",
    "mol_dir = Path(\"/Volumes/4TB/Users/dpflieger/Projects/Gaquerel/Elser/tmp_obabel/mol\")\n",
    "mol_dir.mkdir(parents=True, exist_ok=True)\n",
    "\n",
    "#paths = [i.path for i in islice(os.scandir(path), 100))]\n",
    "\n",
    "for i in tqdm(smiles_dir.glob(\"*\")):\n",
    "    outfile = mol_dir / str(i.name).replace(\".smiles\", \".mol\")\n",
    "    #print(outfile)\n",
    "    #break\n",
    "    #subprocess.call([\"/Volumes/4TB/Users/dpflieger/Softs/openbabel/build/bin/obabel\", i, \"-o\", \"mol\", \"-O\", outfile, \"-x3\", \"--gen3d\"])\n",
    "    os.system(f\"~/Softs/openbabel/build/bin/obabel {i} -o mol -O {outfile} -x3 --gen3d\")\n",
    "    "
   ]
  },
  {
   "cell_type": "markdown",
   "metadata": {},
   "source": [
    "## Note: openbabel on babel node\n",
    "\n",
    "The last version of openbabel (v3.1.1) doesn't work. There is a bug with the --gen3D option...  \n",
    "I installed and tried an older version (v2.4.1) and it is working now.\n",
    "\n",
    "example of command:\n",
    "\n",
    "```\n",
    "/home/dpflieger/Softs/openbabel-2.4.1/build/bin/obabel ZINC000000001411.smiles -o mol -O /ssd_workspace/dpflieger/conversion/mol/ZINC000000001411.mol -x3 --gen3d\n",
    "```"
   ]
  },
  {
   "cell_type": "code",
   "execution_count": null,
   "metadata": {},
   "outputs": [],
   "source": []
  }
 ],
 "metadata": {
  "kernelspec": {
   "display_name": "Python 3",
   "language": "python",
   "name": "python3"
  },
  "language_info": {
   "codemirror_mode": {
    "name": "ipython",
    "version": 3
   },
   "file_extension": ".py",
   "mimetype": "text/x-python",
   "name": "python",
   "nbconvert_exporter": "python",
   "pygments_lexer": "ipython3",
   "version": "3.8.8"
  }
 },
 "nbformat": 4,
 "nbformat_minor": 4
}
